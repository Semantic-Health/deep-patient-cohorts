{
 "cells": [
  {
   "cell_type": "markdown",
   "metadata": {},
   "source": [
    "# Noisy Labeling of Clinical Notes\n",
    "\n",
    "This notebook allows you to assign \"noisy\" labels to clinical notes using heuristics known as labelling functions (LFs).\n",
    "\n",
    "Because this is a largely exploratory process, it may be useful to run the following cell, which allows you to modify the `NoisyLabeler` code without restarting the kernel."
   ]
  },
  {
   "cell_type": "code",
   "execution_count": 1,
   "metadata": {},
   "outputs": [],
   "source": [
    "%load_ext autoreload\n",
    "%autoreload 2"
   ]
  },
  {
   "cell_type": "markdown",
   "metadata": {},
   "source": [
    "## Load the Data\n",
    "\n",
    "First, you must load some text to label. You will want to have some source of \"gold\" labels to determine the accuracy of your labelling functions. Your labels should be `1`, indicating the presence of a disease, or `0`, indicating its absence. The following code assumes your data is in a [JSON Lines](https://jsonlines.org/) format, with the fields `\"text\"` and `\"label\"`, but you can load the data any way you like."
   ]
  },
  {
   "cell_type": "code",
   "execution_count": 2,
   "metadata": {},
   "outputs": [],
   "source": [
    "gold_data_filepath = \"../data/MIMIC-III-HEART-DISEASE/valid.jsonl\""
   ]
  },
  {
   "cell_type": "code",
   "execution_count": 3,
   "metadata": {},
   "outputs": [],
   "source": [
    "import json\n",
    "from pathlib import Path\n",
    "\n",
    "import numpy as np\n",
    "\n",
    "valid = [json.loads(line) for line in Path(gold_data_filepath).read_text().strip().split(\"\\n\")]\n",
    "texts = [example[\"text\"] for example in valid]\n",
    "labels = np.asarray([example[\"label\"] for example in valid])"
   ]
  },
  {
   "cell_type": "markdown",
   "metadata": {},
   "source": [
    "## (Noisy) Label the Data\n",
    "\n",
    "First, initialize the labeller"
   ]
  },
  {
   "cell_type": "code",
   "execution_count": 4,
   "metadata": {},
   "outputs": [
    {
     "name": "stderr",
     "output_type": "stream",
     "text": [
      "/Users/nicolasahar/miniconda3/envs/deep-pt-cohort/lib/python3.8/site-packages/sklearn/base.py:329: UserWarning: Trying to unpickle estimator TfidfTransformer from version 0.20.3 when using version 0.23.2. This might lead to breaking code or invalid results. Use at your own risk.\n",
      "  warnings.warn(\n",
      "/Users/nicolasahar/miniconda3/envs/deep-pt-cohort/lib/python3.8/site-packages/sklearn/base.py:329: UserWarning: Trying to unpickle estimator TfidfVectorizer from version 0.20.3 when using version 0.23.2. This might lead to breaking code or invalid results. Use at your own risk.\n",
      "  warnings.warn(\n"
     ]
    }
   ],
   "source": [
    "from deep_patient_cohorts import NoisyLabeler\n",
    "\n",
    "labeler = NoisyLabeler()"
   ]
  },
  {
   "cell_type": "markdown",
   "metadata": {},
   "source": [
    "Although optional, it makes sense to preprocess the text with spaCy only one. We can do this easily like so\n",
    "\n",
    "> note, this will take a few minutes per 1000 documents"
   ]
  },
  {
   "cell_type": "code",
   "execution_count": 5,
   "metadata": {},
   "outputs": [
    {
     "name": "stderr",
     "output_type": "stream",
     "text": [
      "0it [00:00, ?it/s]/Users/nicolasahar/miniconda3/envs/deep-pt-cohort/lib/python3.8/site-packages/scispacy/candidate_generation.py:284: VisibleDeprecationWarning: Creating an ndarray from ragged nested sequences (which is a list-or-tuple of lists-or-tuples-or ndarrays with different lengths or shapes) is deprecated. If you meant to do this, you must specify 'dtype=object' when creating the ndarray\n",
      "  extended_neighbors[empty_vectors_boolean_flags] = numpy.array(neighbors)[:-1]\n",
      "/Users/nicolasahar/miniconda3/envs/deep-pt-cohort/lib/python3.8/site-packages/scispacy/candidate_generation.py:285: VisibleDeprecationWarning: Creating an ndarray from ragged nested sequences (which is a list-or-tuple of lists-or-tuples-or ndarrays with different lengths or shapes) is deprecated. If you meant to do this, you must specify 'dtype=object' when creating the ndarray\n",
      "  extended_distances[empty_vectors_boolean_flags] = numpy.array(distances)[:-1]\n",
      "5272it [1:26:15,  1.02it/s]\n"
     ]
    }
   ],
   "source": [
    "texts = labeler.preprocess(texts)"
   ]
  },
  {
   "cell_type": "markdown",
   "metadata": {},
   "source": [
    "Finally, we can label the data and check the accuracy of each labelling function"
   ]
  },
  {
   "cell_type": "code",
   "execution_count": 6,
   "metadata": {},
   "outputs": [
    {
     "name": "stderr",
     "output_type": "stream",
     "text": [
      "100%|██████████| 2/2 [00:28<00:00, 14.05s/it]"
     ]
    },
    {
     "name": "stdout",
     "output_type": "stream",
     "text": [
      "LF 0: Accuracy 57%, Abstain rate 56%\n",
      "LF 1: Accuracy 91%, Abstain rate 93%\n"
     ]
    },
    {
     "name": "stderr",
     "output_type": "stream",
     "text": [
      "\n"
     ]
    }
   ],
   "source": [
    "noisy_labels = labeler(texts)\n",
    "\n",
    "labeler.accuracy(noisy_labels=noisy_labels, gold_labels=labels)"
   ]
  },
  {
   "cell_type": "markdown",
   "metadata": {},
   "source": [
    "### Adding New LFs"
   ]
  },
  {
   "cell_type": "markdown",
   "metadata": {},
   "source": [
    "You may need to continually modify your LFs until they reach acceptable accuracy. The following example demonstrates how to add a new LF to the existing `labeler`, and evaluate its accuracy."
   ]
  },
  {
   "cell_type": "code",
   "execution_count": 7,
   "metadata": {},
   "outputs": [
    {
     "name": "stderr",
     "output_type": "stream",
     "text": [
      "100%|██████████| 3/3 [00:25<00:00,  8.46s/it]"
     ]
    },
    {
     "name": "stdout",
     "output_type": "stream",
     "text": [
      "LF 0: Accuracy 57%, Abstain rate 56%\n",
      "LF 1: Accuracy 91%, Abstain rate 93%\n",
      "LF 2: Accuracy 58%, Abstain rate 97%\n"
     ]
    },
    {
     "name": "stderr",
     "output_type": "stream",
     "text": [
      "\n"
     ]
    }
   ],
   "source": [
    "from typing import List\n",
    "from deep_patient_cohorts import POSITIVE, NEGATIVE, ABSTAIN\n",
    "\n",
    "# heart disease LF\n",
    "def heart_disease(self, texts: List[str]) -> List[int]:\n",
    "    return [POSITIVE if \"heart disease\" in text.text.lower() else ABSTAIN for text in texts]\n",
    "\n",
    "labeler.add(heart_disease)\n",
    "\n",
    "# st elevation LF\n",
    "def st_elevation(self, texts: List[str]) -> List[int]:\n",
    "    search_list = [\"STEMI\", \"ST elevation\", \"ST elevation MI\"]\n",
    "    return [POSITIVE if any([x in text.text.lower() for x in search_list]) else ABSTAIN for text in texts]\n",
    "\n",
    "# st elevation LF\n",
    "def st_elevation(self, texts: List[str]) -> List[int]:\n",
    "    search_list = [\"STEMI\", \"ST elevation\", \"ST elevation MI\"]\n",
    "    return [POSITIVE if any([x in text.text.lower() for x in search_list]) else ABSTAIN for text in texts]\n",
    "\n",
    "# atherosclerosis\n",
    "def atherosclerosis(self, texts: List[str]) -> List[int]:\n",
    "    search_list = [\"atherosclerosis\", \"arteriosclerosis\", \"atherosclerotic\", \"arterial sclerosis\", \"artherosclerosis\", \"atherosclerotic disease\"]\n",
    "    return [POSITIVE if any([x in text.text.lower() for x in search_list]) else ABSTAIN for text in texts]\n",
    "\n",
    "# heart_attack\n",
    "def heart_attack(self, texts: List[str]) -> List[int]:\n",
    "    search_list = [\"myocardial infarcation\", \"MI\", \"ischemic heart disease\", \"cardiac arrest\", \"coronary infarction\", \"asystole\", \"cardiopulmonary arrest\", \"coronary thrombosis\", \"heart arrest\", \"heart attack\", \"heart stoppage\"]\n",
    "    return [POSITIVE if any([x in text.text.lower() for x in search_list]) else ABSTAIN for text in texts]\n",
    "\n",
    "# heart_failure\n",
    "def heart_failure(self, texts: List[str]) -> List[int]:\n",
    "    search_list = [\"congestive heart failure\", \"decomensated heart failure\", \"CHF\", \"left-side heart failure\", \"right-sided heart failure\"]\n",
    "    return [POSITIVE if any([x in text.text.lower() for x in search_list]) else ABSTAIN for text in texts]\n",
    "\n",
    "labeler.add(heart_disease)\n",
    "labeler.add(st_elevation)\n",
    "labeler.add(atherosclerosis)\n",
    "labeler.add(heart_attack)\n",
    "labeler.add(heart_failure)\n",
    "\n",
    "noisy_labels = labeler(texts)\n",
    "labeler.accuracy(noisy_labels=noisy_labels, gold_labels=labels)"
   ]
  },
  {
   "cell_type": "markdown",
   "metadata": {},
   "source": [
    "Of course, you can also modify the `NoisyLabeler` code directly.\n",
    "\n",
    "### Training a Label Model\n",
    "\n",
    "Using [FlyingSquid](https://github.com/HazyResearch/flyingsquid), we can train a probablistic model to combine our LFs (assuming we have at least 3!)"
   ]
  },
  {
   "cell_type": "code",
   "execution_count": null,
   "metadata": {},
   "outputs": [],
   "source": [
    "from flyingsquid.label_model import LabelModel\n",
    "\n",
    "m = noisy_labels.shape[1]\n",
    "label_model = LabelModel(m)\n",
    "\n",
    "label_model.fit(noisy_labels)\n",
    "\n",
    "preds = label_model.predict(noisy_labels).reshape(labels.shape)\n",
    "accuracy = np.sum(preds == labels) / labels.shape[0]\n",
    "\n",
    "print(f\"Label model accuracy: {int(100 * accuracy)}%\")"
   ]
  },
  {
   "cell_type": "markdown",
   "metadata": {},
   "source": [
    "### Removing LFs\n",
    "\n",
    "If it turns out our new LF performs poorly, we can remove it and try again"
   ]
  },
  {
   "cell_type": "code",
   "execution_count": 5,
   "metadata": {},
   "outputs": [],
   "source": [
    "del labeler.lfs[-1]"
   ]
  },
  {
   "cell_type": "markdown",
   "metadata": {},
   "source": [
    "## LF backlog\n",
    "\n",
    "- ~~ST elevation (common sign of heart attack)~~\n",
    "    - ~~STEMI|ST elevation~~\n",
    "- obstruction of heart vessels (occurs in 15-20% of people with heart disease)\n",
    "    - xx \n",
    "    - %|percent \n",
    "    - blockage|obstruction|occlusion|narrowed \n",
    "    - of|in|around \n",
    "    - coronary arteries(or arteries) | Left coronary artery | LCA | Left anterior descending artery | LAD | Left circumflex artery | Posterior descending artery | Right coronary artery | RCA | Right marginal artery | Posterior descending artery | PDA\n",
    "- swelling/edema (commmon symptom of heart failure)\n",
    "    - swelling|edema|puffiness\n",
    "    - in \n",
    "    - left | right | l | r (optional)\n",
    "    - ankle(s), leg(s), feet | foot\n",
    "- angina (common symptom of coronary artery disease)\n",
    "    - stable|unstable|variant (optional)\n",
    "    - angina|chest pain|angina pectoris\n",
    "- abnormal diagnostic test results\n",
    "    - abnormal|concerning \n",
    "    - ECG|echo|echocardiogram\n",
    "- ~~atherosclerosis~~\n",
    "    - ~~atherosclerosis|arteriosclerosis|atherosclerotic|arterial sclerosis|artherosclerosis|atherosclerotic disease~~\n",
    "- ~~heart attack~~\n",
    "    - ~~myocardial infarcation|MI|ischemic heart disease|cardiac arrest|coronary infacrtion|asystole|cardiopulmonary arrest|coronary thrombosis|heart arrest|heart attack|heart stoppage~~\n",
    "- ~~heart failure~~\n",
    "    - ~~congestive heart failure|decomensated heart failure|CHF|left-side heart failure|right-sided heart failure~~\n",
    "- correlated procedures: \n",
    "    - coronary|cardiac cath|catheter|catheterization\n",
    "    - coronary|cardiac stent|stenting|angioplasty\n",
    "    - Percutaneous coronary intervention|PCI\n",
    "- correlated drugs (get the individual drug names from SNOMED for the following SNOMED categories, and exact/synonym match for these in the text. At least 1 hit should be a POSITIVE: \n",
    "    - Cardiovascular Agents (all of them)\n",
    "    - Hematologic agent\n",
    "    - Thrombolytic\n",
    "    - Anticoagulant\n",
    "- correlated diseases (get the individual drug names from SNOMED for the following SNOMED categories, and exact/synonym match for these in the text. At least 1 hit should be a POSITIVE: \n",
    "    - Anything with ICD10CM chapter 9 (get all of the code names/synonyms and exact match)\n",
    "- correlated cardiac markers - regex, similar to ejection fraction, to search for cardiac markers with abnormal ranges:\n",
    "    - see this: https://en.wikipedia.org/wiki/Cardiac_marker\n",
    "\n",
    "\n",
    "\n",
    "\n",
    "   \n",
    "   "
   ]
  },
  {
   "cell_type": "code",
   "execution_count": null,
   "metadata": {},
   "outputs": [],
   "source": []
  }
 ],
 "metadata": {
  "kernelspec": {
   "display_name": "Python 3",
   "language": "python",
   "name": "python3"
  },
  "language_info": {
   "codemirror_mode": {
    "name": "ipython",
    "version": 3
   },
   "file_extension": ".py",
   "mimetype": "text/x-python",
   "name": "python",
   "nbconvert_exporter": "python",
   "pygments_lexer": "ipython3",
   "version": "3.8.5"
  }
 },
 "nbformat": 4,
 "nbformat_minor": 4
}
