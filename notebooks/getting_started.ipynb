{
 "cells": [
  {
   "cell_type": "markdown",
   "metadata": {},
   "source": [
    "# Noisy Labeling of Clinical Notes\n",
    "\n",
    "This notebook allows you to assign \"noisy\" labels to clinical notes using heuristics known as labelling functions (LFs).\n",
    "\n",
    "Because this is a largely exploratory process, it may be useful to run the following cell, which allows you to modify the `NoisyLabeler` code without restarting the kernel."
   ]
  },
  {
   "cell_type": "code",
   "execution_count": 1,
   "metadata": {},
   "outputs": [],
   "source": [
    "%load_ext autoreload\n",
    "%autoreload 2"
   ]
  },
  {
   "cell_type": "code",
   "execution_count": 5,
   "metadata": {},
   "outputs": [],
   "source": [
    "import sys\n",
    "sys.path.append('/Users/karthik/Desktop/karthik-wanglab/deep-patient-cohorts/')"
   ]
  },
  {
   "cell_type": "markdown",
   "metadata": {},
   "source": [
    "## Load the Data\n",
    "\n",
    "First, you must load some text to label. You will want to have some source of \"gold\" labels to determine the accuracy of your labelling functions. Your labels should be `1`, indicating the presence of a disease, or `0`, indicating its absence. The following code assumes your data is in a [JSON Lines](https://jsonlines.org/) format, with the fields `\"text\"` and `\"label\"`, but you can load the data any way you like."
   ]
  },
  {
   "cell_type": "code",
   "execution_count": 6,
   "metadata": {},
   "outputs": [],
   "source": [
    "gold_data_filepath = \"../data/MIMIC-III-HEART-DISEASE/valid.jsonl\""
   ]
  },
  {
   "cell_type": "code",
   "execution_count": 7,
   "metadata": {},
   "outputs": [],
   "source": [
    "import json\n",
    "from pathlib import Path\n",
    "\n",
    "import numpy as np\n",
    "\n",
    "valid = [json.loads(line) for line in Path(gold_data_filepath).read_text().strip().split(\"\\n\")]\n",
    "texts = [example[\"text\"] for example in valid]\n",
    "labels = np.asarray([example[\"label\"] for example in valid])"
   ]
  },
  {
   "cell_type": "markdown",
   "metadata": {},
   "source": [
    "## (Noisy) Label the Data\n",
    "\n",
    "First, initialize the labeller"
   ]
  },
  {
   "cell_type": "code",
   "execution_count": 8,
   "metadata": {},
   "outputs": [],
   "source": [
    "from deep_patient_cohorts import NoisyLabeler\n",
    "\n",
    "labeler = NoisyLabeler()"
   ]
  },
  {
   "cell_type": "markdown",
   "metadata": {},
   "source": [
    "Although optional, it makes sense to preprocess the text with spaCy only one. We can do this easily like so\n",
    "\n",
    "> note, this will take a few minutes per 1000 documents"
   ]
  },
  {
   "cell_type": "code",
   "execution_count": 9,
   "metadata": {},
   "outputs": [
    {
     "name": "stderr",
     "output_type": "stream",
     "text": [
      "5272it [07:50, 11.20it/s]\n"
     ]
    }
   ],
   "source": [
    "texts = labeler.preprocess(texts)"
   ]
  },
  {
   "cell_type": "markdown",
   "metadata": {},
   "source": [
    "Finally, we can label the data and check the accuracy of each labelling function"
   ]
  },
  {
   "cell_type": "code",
   "execution_count": 10,
   "metadata": {},
   "outputs": [
    {
     "name": "stderr",
     "output_type": "stream",
     "text": [
      "100%|██████████| 2/2 [00:14<00:00,  7.36s/it]"
     ]
    },
    {
     "name": "stdout",
     "output_type": "stream",
     "text": [
      "LF 0: Accuracy 61%, Abstain rate 68%\n",
      "LF 1: Accuracy 91%, Abstain rate 93%\n"
     ]
    },
    {
     "name": "stderr",
     "output_type": "stream",
     "text": [
      "\n"
     ]
    }
   ],
   "source": [
    "noisy_labels = labeler(texts)\n",
    "\n",
    "labeler.accuracy(noisy_labels=noisy_labels, gold_labels=labels)"
   ]
  },
  {
   "cell_type": "markdown",
   "metadata": {},
   "source": [
    "### Adding New LFs"
   ]
  },
  {
   "cell_type": "markdown",
   "metadata": {},
   "source": [
    "You may need to continually modify your LFs until they reach acceptable accuracy. The following example demonstrates how to add a new LF to the existing `labeler`, and evaluate its accuracy."
   ]
  },
  {
   "cell_type": "code",
   "execution_count": 77,
   "metadata": {},
   "outputs": [
    {
     "name": "stderr",
     "output_type": "stream",
     "text": [
      "\n",
      "\n",
      "  0%|          | 0/10 [00:00<?, ?it/s]\u001b[A\u001b[A\n",
      "\n",
      " 10%|█         | 1/10 [00:04<00:41,  4.64s/it]\u001b[A\u001b[A\n",
      "\n",
      " 20%|██        | 2/10 [00:11<00:42,  5.31s/it]\u001b[A\u001b[A\n",
      "\n",
      " 30%|███       | 3/10 [00:16<00:35,  5.09s/it]\u001b[A\u001b[A\n",
      "\n",
      " 40%|████      | 4/10 [00:28<00:44,  7.39s/it]\u001b[A\u001b[A\n",
      "\n",
      " 50%|█████     | 5/10 [00:52<01:01, 12.40s/it]\u001b[A\u001b[A\n",
      "\n",
      " 60%|██████    | 6/10 [01:13<00:59, 14.77s/it]\u001b[A\u001b[A\n",
      "\n",
      " 70%|███████   | 7/10 [01:35<00:50, 16.97s/it]\u001b[A\u001b[A\n",
      "\n",
      " 80%|████████  | 8/10 [01:49<00:32, 16.24s/it]\u001b[A\u001b[A\n",
      "\n",
      " 90%|█████████ | 9/10 [02:26<00:22, 22.37s/it]\u001b[A\u001b[A\n",
      "\n",
      "100%|██████████| 10/10 [02:40<00:00, 16.01s/it]\u001b[A\u001b[A"
     ]
    },
    {
     "name": "stdout",
     "output_type": "stream",
     "text": [
      "LF 0: Accuracy 61%, Abstain rate 68%\n",
      "LF 1: Accuracy 91%, Abstain rate 93%\n",
      "LF 2: Accuracy 58%, Abstain rate 97%\n",
      "LF 3: Accuracy 72%, Abstain rate 88%\n",
      "LF 4: Accuracy 61%, Abstain rate 95%\n",
      "LF 5: Accuracy 86%, Abstain rate 78%\n",
      "LF 6: Accuracy 82%, Abstain rate 96%\n",
      "LF 7: Accuracy 61%, Abstain rate 81%\n",
      "LF 8: Accuracy 63%, Abstain rate 55%\n",
      "LF 9: Accuracy 57%, Abstain rate 97%\n"
     ]
    },
    {
     "name": "stderr",
     "output_type": "stream",
     "text": [
      "\n"
     ]
    }
   ],
   "source": [
    "from typing import List\n",
    "from deep_patient_cohorts import POSITIVE, NEGATIVE, ABSTAIN\n",
    "\n",
    "import re\n",
    "\n",
    "# heart_disease\n",
    "def heart_disease(self, texts: List[str]) -> List[int]:\n",
    "    return [POSITIVE if \"heart disease\" in text.text.lower() else ABSTAIN for text in texts]\n",
    "\n",
    "\n",
    "# st elevation LF\n",
    "def st_elevation(self, texts: List[str]) -> List[int]:\n",
    "    search_list = [\"stemi\", \"st elevation\", \"st elevation mi\"]\n",
    "    return [POSITIVE if any([x in text.text.lower() for x in search_list]) else ABSTAIN for text in texts]\n",
    "\n",
    "# atherosclerosis\n",
    "def atherosclerosis(self, texts: List[str]) -> List[int]:\n",
    "    search_list = [\"atherosclerosis\", \"arteriosclerosis\", \"atherosclerotic\", \"arterial sclerosis\", \"artherosclerosis\", \"atherosclerotic disease\"]\n",
    "    return [POSITIVE if any([x in text.text.lower() for x in search_list]) else ABSTAIN for text in texts]\n",
    "'''\n",
    "# heart_attack -- This labelling function is gives 0% accuracy thats why I commented it out\n",
    "\n",
    "def heart_attack(self, texts: List[str]) -> List[int]:\n",
    "    search_list = [\"myocardial infarcation\", \"mi\", \"ischemic heart disease\", \"cardiac arrest\", \"coronary infarction\", \"asystole\", \"cardiopulmonary arrest\", \"coronary thrombosis\", \"heart arrest\", \"heart attack\", \"heart stoppage\"]\n",
    "    return [POSITIVE if any([x in text.text.lower() for x in search_list]) else ABSTAIN for text in texts]\n",
    "'''\n",
    "# heart_failure\n",
    "def heart_failure(self, texts: List[str]) -> List[int]:\n",
    "    search_list = [\"congestive heart failure\", \"decomensated heart failure\", \"chf\", \"left-side heart failure\", \"right-sided heart failure\"]\n",
    "    return [POSITIVE if any([x in text.text.lower() for x in search_list]) else ABSTAIN for text in texts]\n",
    "\n",
    "\n",
    "# angina LF\n",
    "\n",
    "def angina(self, texts: List[str]) -> List[int]:\n",
    "    search_list_1 = [\"stable\", \"unstable\",  \"variant\"]\n",
    "    search_list_2 = [\"angina\", \"chest_pain\", \"angina pectoris\"]\n",
    "    \n",
    "    return [POSITIVE if (any([x in text.text.lower() for x in search_list_1])) and (any([x in text.text.lower() for x in search_list_2]))  else ABSTAIN for text in texts]\n",
    "\n",
    "\n",
    "# abnormal diagnostic tests results LF\n",
    "def abnormal_diagnostic_test(self, texts: List[str]) -> List[int]:\n",
    "    search_list_1 = [\"abnormal\", \"concerning\"]\n",
    "    search_list_2 = [\"ecg\", \"echo\", \"echocarrdiogram\"]\n",
    "    \n",
    "    return [POSITIVE if (any([x in text.text.lower() for x in search_list_1])) and (any([x in text.text.lower() for x in search_list_2]))  else ABSTAIN for text in texts]\n",
    "\n",
    "# corelated procedures LF\n",
    "def correlated_procedures(self, texts:List[str]) -> List[int]:\n",
    "    search_list = [\"coronary\", \"cardiac cath\", \"cardiac stent\", \"catheter\", \"catheterization\", \"stenting\", \"angioplasty\",\n",
    "                  \"percutaneous coronary intervention\",\"pci\"]\n",
    "    \n",
    "    return [POSITIVE if any([x in text.text.lower() for x in search_list]) else ABSTAIN for text in texts]\n",
    "\n",
    "#Common symptom of heart failure\n",
    "\n",
    "def common_heart_failure(self, texts:List[str]) -> List[int]:\n",
    "    pattern = re.compile(r\"(swelling|edema|puffiness)[\\s\\w:<>=]+(in)?[\\s\\w:<>=]+(left|right|l|r)?[\\s\\w:<>=]+(ankle|leg|feet|foot|ankles|legs)\", re.IGNORECASE)\n",
    "    matches = [pattern.findall(text.text) for text in texts]\n",
    "    #print(matches)\n",
    "    return [ABSTAIN if not match else POSITIVE for match in matches]\n",
    "\n",
    "labeler.add(heart_disease)\n",
    "labeler.add(st_elevation)\n",
    "labeler.add(atherosclerosis)\n",
    "#labeler.add(heart_attack)\n",
    "labeler.add(heart_failure)\n",
    "labeler.add(angina)\n",
    "labeler.add(abnormal_diagnostic_test)\n",
    "labeler.add(correlated_procedures)\n",
    "labeler.add(common_heart_failure)\n",
    "\n",
    "noisy_labels = labeler(texts)\n",
    "labeler.accuracy(noisy_labels=noisy_labels, gold_labels=labels)"
   ]
  },
  {
   "cell_type": "markdown",
   "metadata": {},
   "source": [
    "Of course, you can also modify the `NoisyLabeler` code directly.\n",
    "\n",
    "### Training a Label Model\n",
    "\n",
    "Using [FlyingSquid](https://github.com/HazyResearch/flyingsquid), we can train a probablistic model to combine our LFs (assuming we have at least 3!)"
   ]
  },
  {
   "cell_type": "code",
   "execution_count": 78,
   "metadata": {},
   "outputs": [
    {
     "name": "stdout",
     "output_type": "stream",
     "text": [
      "Label model accuracy: 65%\n"
     ]
    }
   ],
   "source": [
    "from flyingsquid.label_model import LabelModel\n",
    "\n",
    "m = noisy_labels.shape[1]\n",
    "label_model = LabelModel(m)\n",
    "\n",
    "label_model.fit(noisy_labels)\n",
    "\n",
    "preds = label_model.predict(noisy_labels).reshape(labels.shape)\n",
    "accuracy = np.sum(preds == labels) / labels.shape[0]\n",
    "\n",
    "print(f\"Label model accuracy: {int(100 * accuracy)}%\")"
   ]
  },
  {
   "cell_type": "markdown",
   "metadata": {},
   "source": [
    "### Removing LFs\n",
    "\n",
    "If it turns out our new LF performs poorly, we can remove it and try again"
   ]
  },
  {
   "cell_type": "code",
   "execution_count": 75,
   "metadata": {},
   "outputs": [],
   "source": [
    "del labeler.lfs[2:]"
   ]
  },
  {
   "cell_type": "code",
   "execution_count": 76,
   "metadata": {},
   "outputs": [
    {
     "data": {
      "text/plain": [
       "[<bound method NoisyLabeler._chest_pain of <deep_patient_cohorts.noisy_labeler.NoisyLabeler object at 0x7fef2d0bffd0>>,\n",
       " <bound method NoisyLabeler._ejection_fraction of <deep_patient_cohorts.noisy_labeler.NoisyLabeler object at 0x7fef2d0bffd0>>]"
      ]
     },
     "execution_count": 76,
     "metadata": {},
     "output_type": "execute_result"
    }
   ],
   "source": [
    "labeler.lfs"
   ]
  },
  {
   "cell_type": "code",
   "execution_count": null,
   "metadata": {},
   "outputs": [],
   "source": []
  }
 ],
 "metadata": {
  "kernelspec": {
   "display_name": "Python 3",
   "language": "python",
   "name": "python3"
  },
  "language_info": {
   "codemirror_mode": {
    "name": "ipython",
    "version": 3
   },
   "file_extension": ".py",
   "mimetype": "text/x-python",
   "name": "python",
   "nbconvert_exporter": "python",
   "pygments_lexer": "ipython3",
   "version": "3.7.6"
  }
 },
 "nbformat": 4,
 "nbformat_minor": 4
}
