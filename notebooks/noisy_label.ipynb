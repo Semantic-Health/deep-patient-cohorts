{
 "cells": [
  {
   "cell_type": "markdown",
   "metadata": {},
   "source": [
    "# Noisy ICD Code Labeling of Clincal Notes"
   ]
  },
  {
   "cell_type": "code",
   "execution_count": null,
   "metadata": {},
   "outputs": [],
   "source": [
    "%load_ext autoreload\n",
    "%autoreload 2\n",
    "\n",
    "import json\n",
    "from pathlib import Path\n",
    "\n",
    "import numpy as np\n",
    "from deep_patient_cohorts import NoisyLabeler"
   ]
  },
  {
   "cell_type": "markdown",
   "metadata": {},
   "source": [
    "## Preprocess the data"
   ]
  },
  {
   "cell_type": "code",
   "execution_count": null,
   "metadata": {},
   "outputs": [],
   "source": [
    "valid = [json.loads(line) for line in Path(\"../data/MIMIC-III/valid.jsonl\").read_text().strip().split(\"\\n\")]\n",
    "texts = [example[\"text\"] for example in valid[:100]]\n",
    "labels = [example[\"labels\"] for example in valid[:100]]\n",
    "mlb = MultiLabelBinarizer()\n",
    "_= mlb.fit_transform(labels)\n",
    "whitelist = mlb.classes_"
   ]
  },
  {
   "cell_type": "markdown",
   "metadata": {},
   "source": [
    "## (Noisy) Label the data"
   ]
  },
  {
   "cell_type": "code",
   "execution_count": null,
   "metadata": {},
   "outputs": [],
   "source": [
    "labeler = NoisyLabeler(descriptions=\"../data/MIMIC-III/D_ICD_DIAGNOSES.csv\", whitelist=whitelist)"
   ]
  },
  {
   "cell_type": "code",
   "execution_count": null,
   "metadata": {},
   "outputs": [],
   "source": [
    "noisy_labels = labeler(texts)"
   ]
  },
  {
   "cell_type": "code",
   "execution_count": null,
   "metadata": {},
   "outputs": [],
   "source": [
    "accuracy, abstain_rate = labeler.accuracy(noisy_labels, labels)"
   ]
  },
  {
   "cell_type": "code",
   "execution_count": null,
   "metadata": {},
   "outputs": [],
   "source": [
    "m = list(noisy_labels.values())[0].shape[-1]\n",
    "for i in range(m):\n",
    "    print(\n",
    "        f\"LF {i}: Accuracy {np.mean(accuracy[i]) * 100:.2f}%,\"\n",
    "        f\" Abstain rate {np.mean(abstain_rate[i]) * 100:.2f}%\"\n",
    "    )"
   ]
  }
 ],
 "metadata": {
  "kernelspec": {
   "display_name": "deep-patient-cohorts",
   "language": "python",
   "name": "deep-patient-cohorts"
  },
  "language_info": {
   "codemirror_mode": {
    "name": "ipython",
    "version": 3
   },
   "file_extension": ".py",
   "mimetype": "text/x-python",
   "name": "python",
   "nbconvert_exporter": "python",
   "pygments_lexer": "ipython3",
   "version": "3.7.4"
  }
 },
 "nbformat": 4,
 "nbformat_minor": 4
}
