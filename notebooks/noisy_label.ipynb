{
 "cells": [
  {
   "cell_type": "markdown",
   "metadata": {},
   "source": [
    "# Noisy ICD Code Labeling of Clincal Notes"
   ]
  },
  {
   "cell_type": "code",
   "execution_count": null,
   "metadata": {},
   "outputs": [],
   "source": [
    "%load_ext autoreload\n",
    "%autoreload 2\n",
    "\n",
    "import json\n",
    "from pathlib import Path\n",
    "from typing import Dict, List\n",
    "\n",
    "import numpy as np\n",
    "from deep_patient_cohorts import NoisyLabeler\n",
    "from sklearn.preprocessing import MultiLabelBinarizer"
   ]
  },
  {
   "cell_type": "code",
   "execution_count": null,
   "metadata": {},
   "outputs": [],
   "source": [
    "def print_statistics(noisy_labels: Dict[str, np.ndarray], gold_labels: List[List[str]]) -> None:\n",
    "    \"\"\"Print the accuracy and abstain rate of each labelling function in `noisy_labels`,\n",
    "    based on the given `gold_labels`.\"\"\"\n",
    "    # Binarize the labels, setting the negative (absence) of a class to \n",
    "    # -1 to match FlyingSquids convention.\n",
    "    mlb = MultiLabelBinarizer()\n",
    "    gold_labels = mlb.fit_transform(gold_labels)\n",
    "    gold_labels = np.where(gold_labels == 0, -1 * np.ones_like(gold_labels), np.ones_like(gold_labels))\n",
    "    \n",
    "    # (no. of examples, no. of lfs)\n",
    "    n, m = list(noisy_labels.values())[0].shape  \n",
    "    \n",
    "    accuracy = [[] for _ in range(m)]\n",
    "    abstain_rate = [[] for _ in range(m)]\n",
    "    for i, class_ in enumerate(mlb.classes_):\n",
    "        for j in range(m):\n",
    "            if class_ in noisy_labels:\n",
    "                num_predictions = np.sum(noisy_labels[class_][:,j] != 0)\n",
    "                if num_predictions != 0:\n",
    "                    accuracy[j].append(\n",
    "                        np.sum(noisy_labels[class_][:,j] == gold_labels[:, i]) / num_predictions\n",
    "                    )\n",
    "                abstain_rate[j].append(\n",
    "                    np.sum(noisy_labels[class_][:,j] == 0) / n\n",
    "                )\n",
    "            else:\n",
    "                abstain_rate[j].append(1)\n",
    "\n",
    "    for i in range(m):\n",
    "        print(f\"LF {i}: Accuracy {np.mean(accuracy[i]) * 100:.2f}%, Abstain rate {np.mean(abstain_rate[i]) * 100:.2f}%\")"
   ]
  },
  {
   "cell_type": "markdown",
   "metadata": {},
   "source": [
    "## Preprocess the data"
   ]
  },
  {
   "cell_type": "code",
   "execution_count": null,
   "metadata": {},
   "outputs": [],
   "source": [
    "valid = [json.loads(line) for line in Path(\"../data/MIMIC-III/valid.jsonl\").read_text().strip().split(\"\\n\")]\n",
    "texts = [example[\"text\"] for example in valid[:500]]\n",
    "labels = [example[\"labels\"] for example in valid[:500]]\n",
    "mlb = MultiLabelBinarizer()\n",
    "_= mlb.fit_transform(labels)\n",
    "whitelist = mlb.classes_"
   ]
  },
  {
   "cell_type": "markdown",
   "metadata": {},
   "source": [
    "## (Noisy) Label the data"
   ]
  },
  {
   "cell_type": "code",
   "execution_count": null,
   "metadata": {},
   "outputs": [],
   "source": [
    "labeler = NoisyLabeler(descriptions=\"../data/D_ICD_DIAGNOSES.csv\", whitelist=whitelist)"
   ]
  },
  {
   "cell_type": "code",
   "execution_count": null,
   "metadata": {},
   "outputs": [],
   "source": [
    "noisy_labels = labeler(texts)"
   ]
  },
  {
   "cell_type": "code",
   "execution_count": null,
   "metadata": {},
   "outputs": [],
   "source": [
    "print_statistics(noisy_labels=noisy_labels, gold_labels=labels)"
   ]
  }
 ],
 "metadata": {
  "kernelspec": {
   "display_name": "deep-patient-cohorts",
   "language": "python",
   "name": "deep-patient-cohorts"
  },
  "language_info": {
   "codemirror_mode": {
    "name": "ipython",
    "version": 3
   },
   "file_extension": ".py",
   "mimetype": "text/x-python",
   "name": "python",
   "nbconvert_exporter": "python",
   "pygments_lexer": "ipython3",
   "version": "3.7.4"
  }
 },
 "nbformat": 4,
 "nbformat_minor": 4
}
