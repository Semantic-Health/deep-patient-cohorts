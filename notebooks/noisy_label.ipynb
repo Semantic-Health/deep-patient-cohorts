{
 "cells": [
  {
   "cell_type": "markdown",
   "metadata": {},
   "source": [
    "# Noisy ICD Code Labeling of Clincal Notes"
   ]
  },
  {
   "cell_type": "code",
   "execution_count": null,
   "metadata": {},
   "outputs": [],
   "source": [
    "%load_ext autoreload\n",
    "%autoreload 2"
   ]
  },
  {
   "cell_type": "markdown",
   "metadata": {},
   "source": [
    "## Preprocess the data"
   ]
  },
  {
   "cell_type": "code",
   "execution_count": null,
   "metadata": {},
   "outputs": [],
   "source": [
    "import json\n",
    "from pathlib import Path\n",
    "\n",
    "from sklearn.preprocessing import MultiLabelBinarizer\n",
    "\n",
    "valid = [json.loads(line) for line in Path(\"../data/MIMIC-III/valid.jsonl\").read_text().strip().split(\"\\n\")]\n",
    "texts = [example[\"text\"] for example in valid]\n",
    "labels = [example[\"labels\"] for example in valid]\n",
    "mlb = MultiLabelBinarizer()\n",
    "_= mlb.fit_transform(labels)\n",
    "whitelist = mlb.classes_"
   ]
  },
  {
   "cell_type": "markdown",
   "metadata": {},
   "source": [
    "## (Noisy) Label the data\n",
    "\n",
    "First, collect textual descriptions of each code from SNOWMED"
   ]
  },
  {
   "cell_type": "code",
   "execution_count": null,
   "metadata": {},
   "outputs": [],
   "source": [
    "import pandas as pd\n",
    "\n",
    "from deep_patient_cohorts.common.utils import DISEASE_IDS\n",
    "\n",
    "descr_df = pd.read_csv(\n",
    "    \"../data/SnomedCT_USEditionRF2_PRODUCTION_20200901T120000Z/Full/Terminology/sct2_TextDefinition_Full-en_US1000124_20200901.txt\",\n",
    "    sep=\"\\t\",\n",
    "    usecols=[\"conceptId\", \"term\"],\n",
    "    dtype={\"conceptId\": str, \"term\": str},\n",
    ")\n",
    "\n",
    "descriptions = {id_: descr for id_, descr  in zip(descr_df[\"conceptId\"], descr_df[\"term\"]) if id_ in DISEASE_IDS}"
   ]
  },
  {
   "cell_type": "markdown",
   "metadata": {},
   "source": [
    "Then initalize the labeller and label the validation set"
   ]
  },
  {
   "cell_type": "code",
   "execution_count": null,
   "metadata": {},
   "outputs": [],
   "source": [
    "from deep_patient_cohorts import NoisyLabeler\n",
    "from deep_patient_cohorts.common.utils import DISEASE_IDS\n",
    "\n",
    "labeler = NoisyLabeler(labels=DISEASE_IDS, descriptions=descriptions)"
   ]
  },
  {
   "cell_type": "code",
   "execution_count": null,
   "metadata": {},
   "outputs": [],
   "source": [
    "noisy_labels = labeler(texts)"
   ]
  },
  {
   "cell_type": "markdown",
   "metadata": {},
   "source": [
    "Finally, we can check the accuracy of each labelling function"
   ]
  },
  {
   "cell_type": "code",
   "execution_count": null,
   "metadata": {},
   "outputs": [],
   "source": [
    "accuracy, abstain_rate = labeler.accuracy(noisy_labels, labels)"
   ]
  },
  {
   "cell_type": "code",
   "execution_count": null,
   "metadata": {},
   "outputs": [],
   "source": [
    "import numpy as np\n",
    "\n",
    "m = list(noisy_labels.values())[0].shape[-1]\n",
    "for i in range(m):\n",
    "    print(\n",
    "        f\"LF {i}: Accuracy {np.mean(accuracy[i]) * 100:.2f}%,\"\n",
    "        f\" Abstain rate {np.mean(abstain_rate[i]) * 100:.2f}%\"\n",
    "    )"
   ]
  }
 ],
 "metadata": {
  "kernelspec": {
   "display_name": "deep-patient-cohorts",
   "language": "python",
   "name": "deep-patient-cohorts"
  },
  "language_info": {
   "codemirror_mode": {
    "name": "ipython",
    "version": 3
   },
   "file_extension": ".py",
   "mimetype": "text/x-python",
   "name": "python",
   "nbconvert_exporter": "python",
   "pygments_lexer": "ipython3",
   "version": "3.8.5"
  }
 },
 "nbformat": 4,
 "nbformat_minor": 4
}
